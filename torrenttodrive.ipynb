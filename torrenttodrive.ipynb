{
  "nbformat": 4,
  "nbformat_minor": 0,
  "metadata": {
    "colab": {
      "provenance": []
    },
    "kernelspec": {
      "name": "python3",
      "display_name": "Python 3"
    },
    "language_info": {
      "name": "python"
    }
  },
  "cells": [
    {
      "cell_type": "code",
      "execution_count": null,
      "metadata": {
        "id": "qEPL7qdkaAoG",
        "cellView": "form"
      },
      "outputs": [],
      "source": [
        "# @title ## **1. RUN ME FIRST**\n",
        "!python -m pip install --upgrade pip setuptools wheel && python -m pip install lbry-libtorrent wget torf && apt install python3-libtorrent"
      ]
    },
    {
      "cell_type": "code",
      "source": [
        "# @title ## **2. MOUNT GOOGLE DRIVE**\n",
        "from google.colab import drive\n",
        "drive.mount('/content/drive')"
      ],
      "metadata": {
        "id": "aeCfxbIfaXME",
        "cellView": "form"
      },
      "execution_count": null,
      "outputs": []
    },
    {
      "cell_type": "code",
      "source": [
        "# @title ## **3. DOWNLOAD HERE**\n",
        "\n",
        "import os\n",
        "import libtorrent as lt\n",
        "import time\n",
        "\n",
        "Link = \"\" # @param {'type': 'string'}\n",
        "Download_to = \"\" # @param {'type': 'string'}\n",
        "\n",
        "def download_torrent(url, destination):\n",
        "    try:\n",
        "        ses = lt.session()\n",
        "        params = {\n",
        "            'save_path': destination,\n",
        "            'storage_mode': lt.storage_mode_t(2)\n",
        "        }\n",
        "\n",
        "        handle = lt.add_magnet_uri(ses, url, params)\n",
        "        print('Downloading', handle.name())\n",
        "\n",
        "        while not handle.is_seed():\n",
        "            s = handle.status()\n",
        "            print('Progress: %.2f%%' % (s.progress * 100))\n",
        "            time.sleep(1)\n",
        "\n",
        "        print('Download complete!')\n",
        "    except Exception as e:\n",
        "        print(\"Download failed:\", e)\n",
        "\n",
        "if Link:\n",
        "    download_torrent(Link, Download_to)"
      ],
      "metadata": {
        "cellView": "form",
        "id": "1BVMOWX_AQ7j"
      },
      "execution_count": null,
      "outputs": []
    }
  ]
}